{
 "cells": [
  {
   "cell_type": "code",
   "execution_count": 3,
   "metadata": {},
   "outputs": [
    {
     "name": "stdout",
     "output_type": "stream",
     "text": [
      "[[255 255 255 ... 255 255 255]\n",
      " [255 255 255 ... 255 255 255]\n",
      " [255 255 255 ... 255 255 255]\n",
      " ...\n",
      " [ 19  20  21 ...  45  39  35]\n",
      " [ 20  20  21 ...  40  35  31]\n",
      " [ 20  21  21 ...  36  31  27]]\n",
      "<CascadeClassifier 0x10b88a290>\n",
      "[[290 144 236 236]\n",
      " [598 480 206 206]]\n",
      "[[290 144 236 236]\n",
      " [598 480 206 206]]\n"
     ]
    },
    {
     "data": {
      "text/plain": [
       "True"
      ]
     },
     "execution_count": 3,
     "metadata": {},
     "output_type": "execute_result"
    }
   ],
   "source": [
    "import cv2\n",
    "import sys\n",
    "import re\n",
    "\n",
    "# 各種ファイルパス設定\n",
    "image_file = \"/Users/kokubun/face2.jpg\"\n",
    "cascade_file = \"/usr/local/Cellar/opencv/3.4.2/share/OpenCV/haarcascades/haarcascade_frontalface_alt.xml\"\n",
    "\n",
    "output_file = re.sub(r'\\.jpg|jpeg|PNG$', '-mosaic.jpg', image_file)\n",
    "# イメージ読み込み\n",
    "image = cv2.imread(image_file)\n",
    "# グレースケール\n",
    "image_gs = cv2.cvtColor(image, cv2.COLOR_RGB2GRAY)\n",
    "print(image_gs)\n",
    "# カスケードファイル読み込み\n",
    "cascade = cv2.CascadeClassifier(cascade_file)\n",
    "print(cascade)\n",
    "# カスケードファイルで顔認識を実施\n",
    "face_list = cascade.detectMultiScale(image_gs, scaleFactor=1.1, minNeighbors=1, minSize=(100,100))\n",
    "print(face_list)\n",
    "if len(face_list) == 0:\n",
    "    print(\"no face\")\n",
    "    quit()\n",
    "\n",
    "mosaic_rate = 30\n",
    "print(face_list)\n",
    "color = (0, 0, 255)\n",
    "for (x,y,w,h) in face_list:\n",
    "    # 顔を切り抜く\n",
    "    face_img = image[y:y+h, x:x+w]\n",
    "    # 顔の画像を縮小\n",
    "    face_img = cv2.resize(face_img, (w//mosaic_rate, h//mosaic_rate))\n",
    "    # 元のサイズに戻す\n",
    "    face_img = cv2.resize(face_img, (w, h), interpolation = cv2.INTER_AREA)\n",
    "    # imageに再度格納\n",
    "    image[y:y+h, x:x+w] = face_img\n",
    "    \n",
    "# 出力を実施\n",
    "cv2.imwrite(output_file, image)"
   ]
  },
  {
   "cell_type": "code",
   "execution_count": null,
   "metadata": {},
   "outputs": [],
   "source": []
  }
 ],
 "metadata": {
  "kernelspec": {
   "display_name": "Python 3",
   "language": "python",
   "name": "python3"
  },
  "language_info": {
   "codemirror_mode": {
    "name": "ipython",
    "version": 3
   },
   "file_extension": ".py",
   "mimetype": "text/x-python",
   "name": "python",
   "nbconvert_exporter": "python",
   "pygments_lexer": "ipython3",
   "version": "3.6.2"
  }
 },
 "nbformat": 4,
 "nbformat_minor": 2
}
