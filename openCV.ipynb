{
 "cells": [
  {
   "cell_type": "code",
   "execution_count": 2,
   "metadata": {},
   "outputs": [],
   "source": [
    "import cv2\n",
    "import sys"
   ]
  },
  {
   "cell_type": "code",
   "execution_count": 3,
   "metadata": {},
   "outputs": [],
   "source": [
    "# 各種ファイルパス設定\n",
    "image_file = \"/Users/kokubun/human.jpeg\"\n",
    "cascade_file = \"/usr/local/Cellar/opencv/3.4.2/share/OpenCV/haarcascades/haarcascade_frontalcatface.xml\""
   ]
  },
  {
   "cell_type": "code",
   "execution_count": 5,
   "metadata": {},
   "outputs": [],
   "source": [
    "# イメージ読み込み\n",
    "image = cv2.imread(image_file)\n",
    "# グレースケール\n",
    "image_gs = cv2.cvtColor(image, cv2.COLOR_RGB2GRAY)\n",
    "# カスケードファイル読み込み\n",
    "cascade = cv2.CascadeClassifier(cascade_file)\n",
    "# カスケードファイルで顔認識を実施\n",
    "face_list = cascade.detectMultiScale(image_gs)"
   ]
  },
  {
   "cell_type": "code",
   "execution_count": null,
   "metadata": {},
   "outputs": [],
   "source": []
  }
 ],
 "metadata": {
  "kernelspec": {
   "display_name": "Python 3",
   "language": "python",
   "name": "python3"
  },
  "language_info": {
   "codemirror_mode": {
    "name": "ipython",
    "version": 3
   },
   "file_extension": ".py",
   "mimetype": "text/x-python",
   "name": "python",
   "nbconvert_exporter": "python",
   "pygments_lexer": "ipython3",
   "version": "3.6.2"
  }
 },
 "nbformat": 4,
 "nbformat_minor": 2
}
