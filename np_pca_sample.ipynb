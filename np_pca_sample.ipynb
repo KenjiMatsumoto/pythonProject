{
 "cells": [
  {
   "cell_type": "code",
   "execution_count": 3,
   "metadata": {},
   "outputs": [
    {
     "name": "stdout",
     "output_type": "stream",
     "text": [
      "components\n",
      "[[-0.76872175 -0.63958336]\n",
      " [ 0.63958336 -0.76872175]]\n",
      "mean\n",
      "[0.6        0.49858805]\n",
      "covariance\n",
      "[[0.05496038 0.04137594]\n",
      " [0.04137594 0.03965537]]\n",
      "mean\n",
      "[0.6        0.49858805]\n",
      "covariance\n",
      "[[0.05496038 0.04137594]\n",
      " [0.04137594 0.03965537]]\n"
     ]
    },
    {
     "data": {
      "image/png": "[encoded data removed]",
      "text/plain": [
       "<Figure size 432x288 with 1 Axes>"
      ]
     },
     "metadata": {},
     "output_type": "display_data"
    }
   ],
   "source": [
    "import numpy as np\n",
    "import matplotlib.pyplot as plt\n",
    "\n",
    "# generate data\n",
    "x = np.linspace(0.2,1,100)\n",
    "y = 0.8*x + np.random.randn(100)*0.1\n",
    "X = np.vstack([x, y]).T\n",
    "np.random.shuffle(X)\n",
    "\n",
    "# plot data\n",
    "fig = plt.figure()\n",
    "axes = fig.add_subplot(111,aspect='equal')\n",
    "axes.scatter(X[:,0],X[:,1])\n",
    "axes.set_xlim([-0.2, 1.4])\n",
    "axes.set_ylim([-0.2, 1.4])\n",
    "axes.set_xlabel('x0')\n",
    "axes.set_ylabel('x1')\n",
    "axes.vlines(0,-0.2,1.4,linestyles='dashed')\n",
    "axes.hlines(0,-0.2,1.4,linestyles='dashed')\n",
    "\n",
    "# PCA\n",
    "from sklearn.decomposition import PCA\n",
    "pca = PCA(n_components=2)\n",
    "pca.fit(X)\n",
    "\n",
    "# print components and mean\n",
    "print('components')\n",
    "print(pca.components_)\n",
    "print('mean')\n",
    "print(pca.mean_)\n",
    "print('covariance')\n",
    "print(pca.get_covariance())\n",
    "\n",
    "mn = np.mean(X,axis=0)\n",
    "z = X - mn\n",
    "cv = np.cov(z[:,0],z[:,1],bias=0)\n",
    "print('mean')\n",
    "print(mn)\n",
    "print('covariance')\n",
    "print(cv)"
   ]
  },
  {
   "cell_type": "code",
   "execution_count": null,
   "metadata": {},
   "outputs": [],
   "source": []
  }
 ],
 "metadata": {
  "kernelspec": {
   "display_name": "Python 3",
   "language": "python",
   "name": "python3"
  },
  "language_info": {
   "codemirror_mode": {
    "name": "ipython",
    "version": 3
   },
   "file_extension": ".py",
   "mimetype": "text/x-python",
   "name": "python",
   "nbconvert_exporter": "python",
   "pygments_lexer": "ipython3",
   "version": "3.6.5"
  }
 },
 "nbformat": 4,
 "nbformat_minor": 2
}
