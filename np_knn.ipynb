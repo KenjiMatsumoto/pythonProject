{
 "cells": [
  {
   "cell_type": "markdown",
   "metadata": {},
   "source": [
    "# k近傍法"
   ]
  },
  {
   "cell_type": "code",
   "execution_count": 113,
   "metadata": {},
   "outputs": [],
   "source": [
    "%matplotlib inline\n",
    "import numpy as np\n",
    "import matplotlib.pyplot as plt\n",
    "from scipy import stats"
   ]
  },
  {
   "cell_type": "markdown",
   "metadata": {},
   "source": [
    "## 訓練データ生成"
   ]
  },
  {
   "cell_type": "code",
   "execution_count": 114,
   "metadata": {},
   "outputs": [
    {
     "name": "stdout",
     "output_type": "stream",
     "text": [
      "[0 0 0 0 0 0 0 0 0 0 0 0 0 0 0 0 0 0 0 0 0 0 0 0 0 1 1 1 1 1 1 1 1 1 1 1 1\n",
      " 1 1 1 1 1 1 1 1 1 1 1 1 1]\n"
     ]
    }
   ],
   "source": [
    "x0 = np.random.normal(size=50).reshape(-1, 2) - 1\n",
    "x1 = np.random.normal(size=50).reshape(-1, 2) + 1\n",
    "\n",
    "x_train = np.concatenate([x0, x1])\n",
    "y_train = np.concatenate([np.zeros(25), np.ones(25)]).astype(np.int)\n",
    "print(y_train)"
   ]
  },
  {
   "cell_type": "code",
   "execution_count": 115,
   "metadata": {},
   "outputs": [
    {
     "data": {
      "text/plain": [
       "<matplotlib.collections.PathCollection at 0x1a136dfdd8>"
      ]
     },
     "execution_count": 115,
     "metadata": {},
     "output_type": "execute_result"
    },
    {
     "data": {
      "image/png": "[encoded data removed]",
      "text/plain": [
       "<Figure size 432x288 with 1 Axes>"
      ]
     },
     "metadata": {},
     "output_type": "display_data"
    }
   ],
   "source": [
    "plt.scatter(x_train[:, 0], x_train[:, 1], c=y_train)"
   ]
  },
  {
   "cell_type": "markdown",
   "metadata": {},
   "source": [
    "## 学習"
   ]
  },
  {
   "cell_type": "markdown",
   "metadata": {},
   "source": [
    "陽に訓練ステップはない"
   ]
  },
  {
   "cell_type": "markdown",
   "metadata": {},
   "source": [
    "## 予測"
   ]
  },
  {
   "cell_type": "markdown",
   "metadata": {},
   "source": [
    "予測するデータ点との、距離が最も近い$k$個の、訓練データのラベルの最頻値を割り当てる"
   ]
  },
  {
   "cell_type": "code",
   "execution_count": 116,
   "metadata": {},
   "outputs": [
    {
     "name": "stdout",
     "output_type": "stream",
     "text": [
      "10000\n"
     ]
    }
   ],
   "source": [
    "xx0, xx1 = np.meshgrid(np.linspace(-5, 5, 100), np.linspace(-5, 5, 100))\n",
    "xx = np.array([xx0, xx1]).reshape(2, -1).T\n",
    "print(len(xx[:,0]))"
   ]
  },
  {
   "cell_type": "code",
   "execution_count": 165,
   "metadata": {},
   "outputs": [],
   "source": [
    "def distance(x1, x2):\n",
    "    # ユークリッド距離の算出\n",
    "    return np.sum((x1 - x2)**2, axis=1)\n",
    "\n",
    "def distance_t(x1, x2):\n",
    "    # ユークリッド距離の算出（別方法）\n",
    "    #return np.sqrt(np.sum((x1-x2)**2, axis=1))\n",
    "    return np.linalg.norm(x1 - x2, axis=1)\n",
    "\n",
    "# def distance_m(x1, x2):\n",
    "#     tmp = x1 -x2\n",
    "#     sum_squared = np.dot(tmp.T , tmp)\n",
    "#     return np.sqrt(sum_squared)\n",
    "    \n",
    "X_train = x_train\n",
    "X_test = xx\n",
    "k = 4\n",
    "\n",
    "# distance1 = distance(X_test[1], X_train)\n",
    "# print((X_test[1] - X_train)**2)\n",
    "# indexItem = distance1.argsort()[:k]\n",
    "# mode1, mode2 = stats.mode(y_train[indexItem])\n",
    "\n",
    "# Yのpredictを詰め込む空の配列を用意。長さはX_testと同じ長さdtype→データのタイプでyのトレーニングデータと同じ\n",
    "y_pred = np.empty(len(X_test), dtype=y_train.dtype)\n",
    "# iは0からの数値でインクリメントされる（通常使われるiと一緒）\n",
    "for i, x in enumerate(X_test):\n",
    "    # X_trainは50個の要素、xは2個の要素\n",
    "    distances = distance_t(x, X_train)\n",
    "    # sortしたインデックスの配列を返す(argsortメソッド)kはk近傍法のkの値を設定\n",
    "    # 先頭のk個分、値を取得\n",
    "    nearest_index = distances.argsort()[:k]\n",
    "    # 近くにあるプロットされている点の0か1の中で一番多く出てくる値を取得\n",
    "    # _ は返却されてくる個数を表している（今回は未使用）\n",
    "    mode, _ = stats.mode(y_train[nearest_index])\n",
    "    # 0か1の値をセット\n",
    "    y_pred[i] = mode"
   ]
  },
  {
   "cell_type": "code",
   "execution_count": 166,
   "metadata": {},
   "outputs": [
    {
     "data": {
      "text/plain": [
       "<matplotlib.contour.QuadContourSet at 0x1a140b9908>"
      ]
     },
     "execution_count": 166,
     "metadata": {},
     "output_type": "execute_result"
    },
    {
     "data": {
      "image/png": "[encoded data removed]",
      "text/plain": [
       "<Figure size 432x288 with 1 Axes>"
      ]
     },
     "metadata": {},
     "output_type": "display_data"
    }
   ],
   "source": [
    "plt.scatter(x_train[:, 0], x_train[:, 1], c=y_train)\n",
    "plt.contourf(xx0, xx1, y_pred.reshape(100, 100).astype(dtype=np.float), alpha=0.2, levels=np.linspace(0, 1, 3))"
   ]
  },
  {
   "cell_type": "code",
   "execution_count": null,
   "metadata": {},
   "outputs": [],
   "source": []
  },
  {
   "cell_type": "code",
   "execution_count": null,
   "metadata": {},
   "outputs": [],
   "source": []
  },
  {
   "cell_type": "code",
   "execution_count": null,
   "metadata": {},
   "outputs": [],
   "source": []
  }
 ],
 "metadata": {
  "kernelspec": {
   "display_name": "Python 3",
   "language": "python",
   "name": "python3"
  },
  "language_info": {
   "codemirror_mode": {
    "name": "ipython",
    "version": 3
   },
   "file_extension": ".py",
   "mimetype": "text/x-python",
   "name": "python",
   "nbconvert_exporter": "python",
   "pygments_lexer": "ipython3",
   "version": "3.6.5"
  }
 },
 "nbformat": 4,
 "nbformat_minor": 2
}
