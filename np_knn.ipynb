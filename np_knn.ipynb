{
 "cells": [
  {
   "cell_type": "markdown",
   "metadata": {},
   "source": [
    "# k近傍法"
   ]
  },
  {
   "cell_type": "code",
   "execution_count": 8,
   "metadata": {},
   "outputs": [],
   "source": [
    "%matplotlib inline\n",
    "import numpy as np\n",
    "import matplotlib.pyplot as plt\n",
    "from scipy import stats"
   ]
  },
  {
   "cell_type": "markdown",
   "metadata": {},
   "source": [
    "## 訓練データ生成"
   ]
  },
  {
   "cell_type": "code",
   "execution_count": 48,
   "metadata": {},
   "outputs": [
    {
     "name": "stdout",
     "output_type": "stream",
     "text": [
      "[0 0 0 0 0 0 0 0 0 0 0 0 0 0 0 0 0 0 0 0 0 0 0 0 0 1 1 1 1 1 1 1 1 1 1 1 1\n",
      " 1 1 1 1 1 1 1 1 1 1 1 1 1]\n"
     ]
    }
   ],
   "source": [
    "x0 = np.random.normal(size=50).reshape(-1, 2) - 1\n",
    "x1 = np.random.normal(size=50).reshape(-1, 2) + 1\n",
    "\n",
    "x_train = np.concatenate([x0, x1])\n",
    "y_train = np.concatenate([np.zeros(25), np.ones(25)]).astype(np.int)\n",
    "print(y_train)"
   ]
  },
  {
   "cell_type": "code",
   "execution_count": 49,
   "metadata": {},
   "outputs": [
    {
     "data": {
      "text/plain": [
       "<matplotlib.collections.PathCollection at 0x1a123afc18>"
      ]
     },
     "execution_count": 49,
     "metadata": {},
     "output_type": "execute_result"
    },
    {
     "data": {
      "image/png": "[encoded data removed]",
      "text/plain": [
       "<Figure size 432x288 with 1 Axes>"
      ]
     },
     "metadata": {},
     "output_type": "display_data"
    }
   ],
   "source": [
    "plt.scatter(x_train[:, 0], x_train[:, 1], c=y_train)"
   ]
  },
  {
   "cell_type": "markdown",
   "metadata": {},
   "source": [
    "## 学習"
   ]
  },
  {
   "cell_type": "markdown",
   "metadata": {},
   "source": [
    "陽に訓練ステップはない"
   ]
  },
  {
   "cell_type": "markdown",
   "metadata": {},
   "source": [
    "## 予測"
   ]
  },
  {
   "cell_type": "markdown",
   "metadata": {},
   "source": [
    "予測するデータ点との、距離が最も近い$k$個の、訓練データのラベルの最頻値を割り当てる"
   ]
  },
  {
   "cell_type": "code",
   "execution_count": 111,
   "metadata": {},
   "outputs": [
    {
     "name": "stdout",
     "output_type": "stream",
     "text": [
      "10000\n"
     ]
    }
   ],
   "source": [
    "xx0, xx1 = np.meshgrid(np.linspace(-5, 5, 100), np.linspace(-5, 5, 100))\n",
    "xx = np.array([xx0, xx1]).reshape(2, -1).T\n",
    "print(len(xx[:,0]))"
   ]
  },
  {
   "cell_type": "code",
   "execution_count": 102,
   "metadata": {},
   "outputs": [
    {
     "name": "stdout",
     "output_type": "stream",
     "text": [
      "[-5. -5.]\n",
      "[ 37.62775519  37.06706997  15.85589943  36.56546387  33.35517743\n",
      "  36.40150571  25.07231815  35.61349672  34.61091666  38.17917601\n",
      "  31.72748687  23.55692945  44.77907911  26.5209716   46.02522454\n",
      "  26.70941292  27.77496899  47.86312249  19.97310674  35.33669945\n",
      "  48.37182622  44.04037912  21.19207409  46.15659231  28.73471883\n",
      "  50.56961979  90.14626475  67.50710153  56.22102044  45.43643858\n",
      "  60.10273446  79.43018251  44.28974593  80.5709974   97.47220659\n",
      "  55.88230104  53.77451476  56.98087497  69.22885044  74.4892675\n",
      "  86.28520848  68.77319872  60.1518962  100.38834853 112.55285281\n",
      "  82.45983143  59.19870565  85.4948029   54.3436149   42.7139092 ]\n",
      "[0]\n",
      "[3]\n"
     ]
    }
   ],
   "source": [
    "def distance(x1, x2):\n",
    "    return np.sum((x1 - x2)**2, axis=1)\n",
    "\n",
    "X_train = x_train\n",
    "X_test = xx\n",
    "k = 3\n",
    "\n",
    "# print((X_train))\n",
    "print(X_test[0])\n",
    "# print(len(y_train))\n",
    "# print(distance(X_test[0], X_train))\n",
    "distance1 = distance(X_test[0], X_train)\n",
    "indexItem = distance1.argsort()[:k]\n",
    "mode1, mode2 = stats.mode(y_train[indexItem])\n",
    "print(distance1)\n",
    "print(mode1)\n",
    "print(mode2)\n",
    "# Yのpredictを詰め込む空の配列を用意長さはX_testと同じ長さdtype→データのタイプでyのトレーニングデータと同じ\n",
    "y_pred = np.empty(len(X_test), dtype=y_train.dtype)\n",
    "# iは0からの数値でインクリメントされる（通常使われるiと一緒）\n",
    "for i, x in enumerate(X_test):\n",
    "    # X_trainは50個の要素、xは2個の要素\n",
    "    distances = distance(x, X_train)\n",
    "    # sortしたインデックスの配列を返す(argsortメソッド)kはk近傍法のkの値を設定\n",
    "    # 先頭のk個分、値を取得\n",
    "    nearest_index = distances.argsort()[:k]\n",
    "    # 近くにあるプロットされている点の0か1の中で一番多く出てくる値を取得\n",
    "    # _ は返却されてくる個数を表している（今回は未使用）\n",
    "    mode, _ = stats.mode(y_train[nearest_index])\n",
    "    # 0か1の値をセット\n",
    "    y_pred[i] = mode"
   ]
  },
  {
   "cell_type": "code",
   "execution_count": 100,
   "metadata": {},
   "outputs": [
    {
     "data": {
      "text/plain": [
       "<matplotlib.contour.QuadContourSet at 0x1a136067b8>"
      ]
     },
     "execution_count": 100,
     "metadata": {},
     "output_type": "execute_result"
    },
    {
     "data": {
      "image/png": "[encoded data removed]",
      "text/plain": [
       "<Figure size 432x288 with 1 Axes>"
      ]
     },
     "metadata": {},
     "output_type": "display_data"
    }
   ],
   "source": [
    "plt.scatter(x_train[:, 0], x_train[:, 1], c=y_train)\n",
    "plt.contourf(xx0, xx1, y_pred.reshape(100, 100).astype(dtype=np.float), alpha=0.2, levels=np.linspace(0, 1, 3))"
   ]
  },
  {
   "cell_type": "code",
   "execution_count": null,
   "metadata": {},
   "outputs": [],
   "source": []
  },
  {
   "cell_type": "code",
   "execution_count": null,
   "metadata": {},
   "outputs": [],
   "source": []
  },
  {
   "cell_type": "code",
   "execution_count": null,
   "metadata": {},
   "outputs": [],
   "source": []
  }
 ],
 "metadata": {
  "kernelspec": {
   "display_name": "Python 3",
   "language": "python",
   "name": "python3"
  },
  "language_info": {
   "codemirror_mode": {
    "name": "ipython",
    "version": 3
   },
   "file_extension": ".py",
   "mimetype": "text/x-python",
   "name": "python",
   "nbconvert_exporter": "python",
   "pygments_lexer": "ipython3",
   "version": "3.6.5"
  }
 },
 "nbformat": 4,
 "nbformat_minor": 2
}
