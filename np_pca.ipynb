{
 "cells": [
  {
   "cell_type": "markdown",
   "metadata": {},
   "source": [
    "# 主成分分析"
   ]
  },
  {
   "cell_type": "code",
   "execution_count": 4,
   "metadata": {},
   "outputs": [],
   "source": [
    "%matplotlib inline\n",
    "import numpy as np\n",
    "import matplotlib.pyplot as plt\n",
    "from sklearn.decomposition import PCA"
   ]
  },
  {
   "cell_type": "markdown",
   "metadata": {},
   "source": [
    "## 訓練データ生成"
   ]
  },
  {
   "cell_type": "code",
   "execution_count": 21,
   "metadata": {},
   "outputs": [],
   "source": [
    "mean = [0, 0]\n",
    "cov = [[2, 1], [1, 1.5]]\n",
    "pca_X = np.random.multivariate_normal(mean, cov, 300)\n",
    "my_X = pca_X"
   ]
  },
  {
   "cell_type": "code",
   "execution_count": 23,
   "metadata": {},
   "outputs": [
    {
     "data": {
      "text/plain": [
       "(-5, 5)"
      ]
     },
     "execution_count": 23,
     "metadata": {},
     "output_type": "execute_result"
    },
    {
     "data": {
      "image/png": "[encoded data removed]",
      "text/plain": [
       "<Figure size 432x288 with 1 Axes>"
      ]
     },
     "metadata": {},
     "output_type": "display_data"
    }
   ],
   "source": [
    "plt.scatter(my_X[:, 0], my_X[:, 1])\n",
    "plt.xlim(-5, 5)\n",
    "plt.ylim(-5, 5)"
   ]
  },
  {
   "cell_type": "markdown",
   "metadata": {},
   "source": [
    "## 学習"
   ]
  },
  {
   "cell_type": "markdown",
   "metadata": {},
   "source": [
    "訓練データ$X = [\\boldsymbol{x}_{1}, \\boldsymbol{x}_{2}, ..., \\boldsymbol{x}_{n}]^{\\mathrm{T}}$に対して$\\mathbb{E}[\\boldsymbol{x}] = \\boldsymbol{0}$となるように変換する。\n",
    "\n",
    "すると、不偏共分散行列は$Var[\\boldsymbol{x}] = \\frac{1}{n-1} X^{\\mathrm{T}}X$と書ける。\n",
    "\n",
    "$Var[\\boldsymbol{x}]$を固有値分解し、固有値の大きい順に対応する固有ベクトルを第1主成分($\\boldsymbol{w}_{1}$), 第2主成分($\\boldsymbol{w}_{2}$), ...とよぶ。"
   ]
  },
  {
   "cell_type": "code",
   "execution_count": 24,
   "metadata": {
    "scrolled": true
   },
   "outputs": [
    {
     "name": "stdout",
     "output_type": "stream",
     "text": [
      "components\n",
      "[[-0.79230085 -0.61013061]\n",
      " [-0.61013061  0.79230085]]\n",
      "mean\n",
      "[0.09133716 0.00271853]\n",
      "covariance\n",
      "[[2.25369878 1.14916093]\n",
      " [1.14916093 1.6463656 ]]\n"
     ]
    }
   ],
   "source": [
    "n_components=2\n",
    "pca = PCA(n_components=2)\n",
    "pca.fit(pca_X)\n",
    "\n",
    "print('components')\n",
    "print(pca.components_)\n",
    "print('mean')\n",
    "print(pca.mean_)\n",
    "print('covariance')\n",
    "print(pca.get_covariance())"
   ]
  },
  {
   "cell_type": "code",
   "execution_count": 36,
   "metadata": {},
   "outputs": [
    {
     "name": "stdout",
     "output_type": "stream",
     "text": [
      "[[ 1.81667559 -0.12297726]\n",
      " [ 0.95232521  1.23371662]\n",
      " [-0.77006578 -1.58002104]\n",
      " [ 0.20483384  1.08146286]\n",
      " [-3.05221723 -1.82777135]\n",
      " [-2.47039321 -2.49864339]\n",
      " [ 0.25800021  0.45273425]\n",
      " [ 0.33347964  0.15198141]\n",
      " [-1.19608043  0.62296106]\n",
      " [-0.51738684  0.8425323 ]\n",
      " [ 0.49548526  0.38508455]\n",
      " [ 1.01392235  0.28724398]\n",
      " [-1.23234515 -0.81701084]\n",
      " [-0.65013617 -0.06070476]\n",
      " [ 0.75034572 -1.49443706]\n",
      " [-1.46674476 -0.66908622]\n",
      " [ 1.13666763  2.38293827]\n",
      " [ 0.00470984  0.3528608 ]\n",
      " [-1.67280222 -1.38967611]\n",
      " [ 0.85865278  0.36470332]\n",
      " [ 0.42821656 -1.17151058]\n",
      " [ 2.44905614  1.3114583 ]\n",
      " [-1.42308829 -0.72888761]\n",
      " [-0.69675731 -1.11471558]\n",
      " [ 1.60889579  2.84528204]\n",
      " [ 0.21005181 -1.05036861]\n",
      " [-0.13368886 -0.26960062]\n",
      " [ 2.95436988 -0.04118626]\n",
      " [-1.64642408 -0.49410863]\n",
      " [-1.87125413  0.30740472]\n",
      " [ 1.31260775 -0.08527603]\n",
      " [ 1.21241517 -0.54891139]\n",
      " [ 2.20508158  0.31168281]\n",
      " [-0.84056946  0.50712831]\n",
      " [ 0.80325534  0.69904517]\n",
      " [ 1.82653331 -0.24219268]\n",
      " [ 0.25746831  0.77957977]\n",
      " [-0.65116236 -1.02246216]\n",
      " [-0.1934721   1.72533031]\n",
      " [ 0.17756275  2.86154878]\n",
      " [-1.08552084 -0.56800388]\n",
      " [-1.4330005  -2.33546268]\n",
      " [ 0.02442296  1.83299988]\n",
      " [-2.39853963 -1.90738391]\n",
      " [-0.57618047  0.11443564]\n",
      " [-0.8702556  -1.80775224]\n",
      " [-1.21638916 -1.82105722]\n",
      " [ 1.54989574  0.00706698]\n",
      " [-0.51864212 -1.86103647]\n",
      " [-0.15366957 -0.79255201]\n",
      " [-1.00965078  0.44037355]\n",
      " [-1.64588034 -2.55268572]\n",
      " [-2.61941263 -2.12356683]\n",
      " [ 3.27743803  2.59743407]\n",
      " [ 3.57884629  0.80436885]\n",
      " [ 4.11176881  1.94282361]\n",
      " [ 1.05931444 -0.21014031]\n",
      " [-0.13314396 -0.47512751]\n",
      " [ 3.0735915  -0.01901518]\n",
      " [-2.49244467 -2.31869305]\n",
      " [-0.36136612 -0.33919673]\n",
      " [-2.59665777 -0.703788  ]\n",
      " [ 0.97491842  0.31501346]\n",
      " [-1.60858334 -1.03075497]\n",
      " [-3.3320938  -2.81676009]\n",
      " [-0.59281276 -0.64674448]\n",
      " [ 2.50978189  1.94675133]\n",
      " [-0.7661505   0.23221741]\n",
      " [-0.79557161 -0.51469052]\n",
      " [-0.5038134   2.12576675]\n",
      " [ 0.65306186  0.29673061]\n",
      " [ 0.09457918 -1.82654708]\n",
      " [-1.58953114 -0.11492193]\n",
      " [-1.78499006 -1.33010688]\n",
      " [ 0.55737177  0.9084749 ]\n",
      " [ 2.29910309  0.6918307 ]\n",
      " [ 0.14712379  2.05639379]\n",
      " [-0.01970299 -1.06164928]\n",
      " [ 1.72975138  0.27003624]\n",
      " [-2.73746572 -1.92934695]\n",
      " [-1.48825338  0.01264524]\n",
      " [-0.91934388 -0.54527963]\n",
      " [-2.34935568 -0.66375838]\n",
      " [ 0.32068213  0.20543051]\n",
      " [ 2.91655039  2.30776591]\n",
      " [ 0.2613777   1.73323144]\n",
      " [-2.04186312 -2.12282088]\n",
      " [-2.24480826 -0.26596588]\n",
      " [ 0.64008675  1.44379023]\n",
      " [ 0.66186473 -2.05008105]\n",
      " [ 1.17747395  0.79816492]\n",
      " [-0.40515713  0.13944553]\n",
      " [ 0.393215   -0.20172595]\n",
      " [-1.57990726 -2.0155737 ]\n",
      " [-1.17309953  0.43582906]\n",
      " [ 1.84579524  0.70328709]\n",
      " [-0.78169835 -0.60179355]\n",
      " [ 1.32124314 -0.48167876]\n",
      " [ 1.07007865 -0.00612324]\n",
      " [ 0.31449955  0.03868612]\n",
      " [-1.19757727 -0.06817524]\n",
      " [-0.63910358  1.06548683]\n",
      " [ 0.0856139  -0.38055972]\n",
      " [-0.7115679   0.43610189]\n",
      " [ 1.60051929  1.40442984]\n",
      " [ 1.33068252 -0.95944345]\n",
      " [ 1.60242576  2.03117271]\n",
      " [ 0.92996943  1.1462379 ]\n",
      " [ 0.56207521  1.96479792]\n",
      " [ 0.8486178   1.03273744]\n",
      " [ 0.21994718  0.86884634]\n",
      " [-0.72674788 -0.98952102]\n",
      " [-1.17647481  0.87416812]\n",
      " [-0.09725467  0.29490374]\n",
      " [ 0.7209085   0.40504057]\n",
      " [-0.20576701  1.20652106]\n",
      " [-0.77226849 -0.5371374 ]\n",
      " [ 0.28983431 -0.07305885]\n",
      " [ 0.53683225  0.12404013]\n",
      " [-1.73637417 -1.31200529]\n",
      " [ 0.75976888 -0.42511483]\n",
      " [-1.98486606 -1.75788256]\n",
      " [-0.23766207  1.71096107]\n",
      " [-4.03592308 -2.09587664]\n",
      " [ 1.72013698  0.3976904 ]\n",
      " [ 0.74299618  1.0240901 ]\n",
      " [ 1.21129429  0.88343369]\n",
      " [ 0.33458565 -1.8354865 ]\n",
      " [-1.03812252  1.66069783]\n",
      " [-1.92708172 -0.04167654]\n",
      " [-0.01511598  0.53202148]\n",
      " [ 0.13578183  0.95814421]\n",
      " [-0.43555607 -0.64118315]\n",
      " [ 0.59248222  0.51451405]\n",
      " [-0.15514118  0.2827046 ]\n",
      " [ 0.21916453 -0.13767328]\n",
      " [ 0.32258699 -0.07115693]\n",
      " [ 0.86921986  1.23094446]\n",
      " [-0.12402161  0.22168485]\n",
      " [-0.93138078 -2.04608023]\n",
      " [-3.50503825  0.81210543]\n",
      " [-1.41373057 -0.31044759]\n",
      " [ 0.97196371  0.54890353]\n",
      " [-1.68832923 -1.66890399]\n",
      " [ 2.10606057  2.02620052]\n",
      " [-0.49610824  0.30393117]\n",
      " [-0.90757642  1.46475123]\n",
      " [ 0.3402868   0.90569939]\n",
      " [ 1.69875113  0.75182681]\n",
      " [ 1.53112314  0.95102586]\n",
      " [-1.73697    -1.12126722]\n",
      " [ 1.91805759  0.39745061]\n",
      " [ 0.47665171  1.73565308]\n",
      " [-1.18911413 -0.65818883]\n",
      " [-0.2097059   1.15321377]\n",
      " [-1.78443441 -1.20545618]\n",
      " [-1.23782991  0.76169782]\n",
      " [ 0.02429671  0.92628326]\n",
      " [ 1.72012737  0.06895501]\n",
      " [-1.35535216 -1.94841739]\n",
      " [ 0.38859522 -1.12308956]\n",
      " [-1.16807335  0.20711868]\n",
      " [-2.70685337 -0.57672919]\n",
      " [-2.27553774 -1.16245767]\n",
      " [ 1.10274592 -0.07559861]\n",
      " [ 0.55246084 -1.71641199]\n",
      " [ 2.15518532  0.97851099]\n",
      " [ 0.2151462   2.11431058]\n",
      " [ 1.01702112 -0.40509685]\n",
      " [ 2.19189484 -0.48032313]\n",
      " [ 1.62680875  2.24976747]\n",
      " [ 0.35154429 -0.72057409]\n",
      " [-0.07640733 -1.98401492]\n",
      " [ 1.17426617 -0.03575219]\n",
      " [-0.29181536  0.65717299]\n",
      " [ 2.69810321  1.1172079 ]\n",
      " [ 3.22725186  1.32128186]\n",
      " [-1.01610983 -1.84968255]\n",
      " [ 0.1326616  -0.21785233]\n",
      " [-2.09716597 -0.10700647]\n",
      " [-2.13497095 -2.06797848]\n",
      " [-0.66312168  0.19423034]\n",
      " [ 3.41917514  1.40494277]\n",
      " [-2.33691257 -1.63499153]\n",
      " [ 1.01676879 -0.09738232]\n",
      " [-0.26600838  1.70813681]\n",
      " [ 1.42985227 -0.38999864]\n",
      " [ 3.40235495  3.01635884]\n",
      " [ 1.95879216 -0.10521514]\n",
      " [ 0.09526099 -0.17208002]\n",
      " [-1.48220654 -2.07176967]\n",
      " [-0.68187833  0.87877181]\n",
      " [ 1.49005199  0.11665585]\n",
      " [ 1.29284054  0.07076573]\n",
      " [-1.61327774 -1.31826038]\n",
      " [-0.07305052  0.13239734]\n",
      " [ 0.39992824  0.99652435]\n",
      " [ 1.46349571  2.39126845]\n",
      " [ 1.76456705  2.04257089]\n",
      " [ 0.22022801  0.91481185]\n",
      " [ 0.86099098  0.66195283]\n",
      " [ 0.95137193 -0.72905896]\n",
      " [ 1.77330697 -0.32573945]\n",
      " [-0.71087917 -0.98567657]\n",
      " [ 0.52220087  2.305213  ]\n",
      " [ 1.06934715  0.43558689]\n",
      " [ 0.05535566 -1.3535625 ]\n",
      " [ 1.63494244  0.9806348 ]\n",
      " [ 2.05772712  0.01591378]\n",
      " [ 2.34415241  1.2860543 ]\n",
      " [ 1.37098847  1.32192275]\n",
      " [ 0.31333176  0.50972503]\n",
      " [-1.25357298 -1.35544451]\n",
      " [-2.14359088 -1.63752712]\n",
      " [ 3.19599267  2.57534941]\n",
      " [-0.62727438 -0.72961286]\n",
      " [ 0.61194924  1.54698806]\n",
      " [ 0.6860887   0.98884217]\n",
      " [-0.67778626  1.11263195]\n",
      " [ 1.95784573  1.1241425 ]\n",
      " [-1.87423452 -1.79045063]\n",
      " [ 2.04397652  0.88092458]\n",
      " [-0.71500214 -0.41708599]\n",
      " [ 2.81266132  1.87512827]\n",
      " [-1.01291909  0.36136067]\n",
      " [ 0.16094265  0.06783546]\n",
      " [ 0.53902586  0.6181613 ]\n",
      " [-2.66946825  0.1250959 ]\n",
      " [ 3.46745923  0.68501762]\n",
      " [-0.7958621  -0.78902558]\n",
      " [ 0.9135936   1.32126181]\n",
      " [ 0.15277425 -0.98691433]\n",
      " [-1.82502903 -1.79975103]\n",
      " [-0.51617747  1.09655079]\n",
      " [ 1.51857204  2.48610108]\n",
      " [ 2.62850411  0.28913921]\n",
      " [ 0.41394099 -1.14328011]\n",
      " [ 1.80873611  0.86112762]\n",
      " [ 2.04630262  2.9528592 ]\n",
      " [-1.16526089  0.31242177]\n",
      " [-2.71182212 -2.87303646]\n",
      " [-0.8078544  -0.621809  ]\n",
      " [-0.2177159   1.01993412]\n",
      " [-0.38015262  0.3902422 ]\n",
      " [-1.18792202 -0.77090564]\n",
      " [ 2.36422171  1.32474192]\n",
      " [ 0.89150539  0.35475133]\n",
      " [ 1.57744015  0.96282473]\n",
      " [-0.25301615  0.17351796]\n",
      " [ 0.73422401  0.91435457]\n",
      " [-1.09531911  0.18611482]\n",
      " [-0.71117207 -0.96995717]\n",
      " [-0.48229085 -0.84020115]\n",
      " [ 1.12651103  1.80507837]\n",
      " [-0.90172055  0.01601198]\n",
      " [-1.92599947 -2.76626605]\n",
      " [ 0.39718624 -0.89455262]\n",
      " [ 0.4560345   1.11233578]\n",
      " [ 0.59818154 -0.46596702]\n",
      " [ 0.18925697  1.09413117]\n",
      " [-1.841305   -0.6499221 ]\n",
      " [-0.76641551  0.99829425]\n",
      " [-0.6024045   0.42312438]\n",
      " [-1.55802616 -1.64250253]\n",
      " [-0.47662909  1.44195299]\n",
      " [-1.49620938 -3.32539962]\n",
      " [-1.1603351  -0.72737377]\n",
      " [-1.09571618 -0.30077425]\n",
      " [ 0.09141892  0.4841789 ]\n",
      " [-0.21374844 -0.68977854]\n",
      " [-0.97705095 -0.05103819]\n",
      " [-1.27325403  0.06851558]\n",
      " [-0.26673649  0.80271829]\n",
      " [-1.47650965 -0.20418021]\n",
      " [-1.66178621 -1.25353511]\n",
      " [ 2.48298379  0.52341602]\n",
      " [-2.64220463 -3.15613909]\n",
      " [ 1.63497748  1.07999192]\n",
      " [ 0.82685527 -0.25208333]\n",
      " [ 0.12429648 -0.32516154]\n",
      " [ 1.01572885 -1.28364752]\n",
      " [ 0.47846464 -1.12568369]\n",
      " [-2.02867545 -1.58011026]\n",
      " [ 0.51757589  0.08354584]\n",
      " [ 1.48105284  0.82980657]\n",
      " [ 1.38585691 -1.30497063]\n",
      " [-1.19723994 -1.40467041]\n",
      " [-4.28416359 -3.31458358]\n",
      " [-0.69031842  0.13870388]\n",
      " [-0.34110695 -1.77780101]\n",
      " [ 1.12931576 -0.58415813]\n",
      " [-0.36509749 -0.16727539]\n",
      " [-2.26344513 -1.74953126]\n",
      " [ 1.03522467 -0.38219268]\n",
      " [ 1.12306147  0.66094485]\n",
      " [-1.57254942  1.52807623]\n",
      " [ 0.86698285  3.75076945]\n",
      " [-2.1815694  -0.52531297]\n",
      " [-2.61579192 -2.85532241]\n",
      " [-0.90918953 -1.69828389]]\n",
      "mean\n",
      "[0.09133716 0.00271853]\n",
      "covariance\n",
      "[[2.25369878 1.14916093]\n",
      " [1.14916093 1.6463656 ]]\n",
      "[[2.25369878 1.14916093]\n",
      " [1.14916093 1.6463656 ]]\n",
      "[[2.25369878 1.14916093]\n",
      " [1.14916093 1.6463656 ]]\n"
     ]
    }
   ],
   "source": [
    "mean = my_X.mean(axis=0)\n",
    "z = my_X - mean\n",
    "\n",
    "cv = np.cov(z[:,0],z[:,1],bias=0)\n",
    "cov1 = np.cov(my_X - mean, rowvar=False)\n",
    "cov = np.dot((my_X- mean).T, my_X - mean) / (len(my_X) - 1)\n",
    "print('mean')\n",
    "print(mean)\n",
    "print('covariance')\n",
    "print(cv)\n",
    "print(cov)\n",
    "print(cov1)\n",
    "\n",
    "eigenvalues, eigenvectors = np.linalg.eigh(cov)\n",
    "W = eigenvectors[:, -n_components:]\n",
    "\n",
    "principal_components = W.T[::-1]"
   ]
  },
  {
   "cell_type": "code",
   "execution_count": 24,
   "metadata": {},
   "outputs": [
    {
     "data": {
      "text/plain": [
       "<matplotlib.quiver.Quiver at 0x1094feac8>"
      ]
     },
     "execution_count": 24,
     "metadata": {},
     "output_type": "execute_result"
    },
    {
     "data": {
      "image/png": "[encoded data removed]",
      "text/plain": [
       "<Figure size 432x288 with 1 Axes>"
      ]
     },
     "metadata": {},
     "output_type": "display_data"
    }
   ],
   "source": [
    "first, second = principal_components\n",
    "\n",
    "plt.scatter(X[:, 0], X[:, 1])\n",
    "plt.xlim(-5, 5)\n",
    "plt.ylim(-5, 5)\n",
    "# 第１主成分\n",
    "plt.quiver(0, 0, first[0], first[1], width=0.01, scale=6, color='red')\n",
    "# 第２主成分\n",
    "plt.quiver(0, 0, second[0], second[1], width=0.01, scale=6, color='green')"
   ]
  },
  {
   "cell_type": "markdown",
   "metadata": {},
   "source": [
    "## 変換（射影）"
   ]
  },
  {
   "cell_type": "markdown",
   "metadata": {},
   "source": [
    "元のデータを$m$次元に変換(射影)するときは行列$W$を$W=[\\boldsymbol{w}_{1}, \\boldsymbol{w}_{2}, \\cdots, \\boldsymbol{w}_{m}]$とし、データ点$\\boldsymbol{x}$を$\\boldsymbol{z} = W^{\\mathrm{T}} \\boldsymbol{x}$\n",
    "によって変換(射影)する。\n",
    "\n",
    "よって、データ$X$に対しては$Z = X^{\\mathrm{T}}W$によって変換する。"
   ]
  },
  {
   "cell_type": "code",
   "execution_count": 6,
   "metadata": {},
   "outputs": [],
   "source": [
    "Z = np.dot(X - mean, W)"
   ]
  },
  {
   "cell_type": "code",
   "execution_count": 7,
   "metadata": {},
   "outputs": [
    {
     "data": {
      "text/plain": [
       "(-5, 5)"
      ]
     },
     "execution_count": 7,
     "metadata": {},
     "output_type": "execute_result"
    },
    {
     "data": {
      "image/png": "[encoded data removed]",
      "text/plain": [
       "<matplotlib.figure.Figure at 0x10c010780>"
      ]
     },
     "metadata": {},
     "output_type": "display_data"
    }
   ],
   "source": [
    "plt.scatter(Z[:, 0], Z[:, 1])\n",
    "plt.xlim(-5, 5)\n",
    "plt.ylim(-5, 5)"
   ]
  },
  {
   "cell_type": "markdown",
   "metadata": {},
   "source": [
    "## 逆変換"
   ]
  },
  {
   "cell_type": "markdown",
   "metadata": {},
   "source": [
    "射影されたデータ点$\\boldsymbol{z}$を元のデータ空間へ逆変換するときは$\\bar{\\boldsymbol{x}} = (W^{\\mathrm{T}})^{-1} \\boldsymbol{z} = W \\boldsymbol{z}$によって変換する。\n",
    "\n",
    "よって、射影されたデータ$Z$に対しては$\\bar{X} = ZW^{\\mathrm{T}}$によって変換する。"
   ]
  },
  {
   "cell_type": "code",
   "execution_count": 8,
   "metadata": {},
   "outputs": [],
   "source": [
    "X_ = np.dot(Z, W.T) + mean"
   ]
  },
  {
   "cell_type": "code",
   "execution_count": 9,
   "metadata": {},
   "outputs": [
    {
     "data": {
      "text/plain": [
       "(-5, 5)"
      ]
     },
     "execution_count": 9,
     "metadata": {},
     "output_type": "execute_result"
    },
    {
     "data": {
      "image/png": "[encoded data removed]",
      "text/plain": [
       "<matplotlib.figure.Figure at 0x113f0ca58>"
      ]
     },
     "metadata": {},
     "output_type": "display_data"
    }
   ],
   "source": [
    "plt.scatter(X_[:, 0], X_[:, 1])\n",
    "plt.xlim(-5, 5)\n",
    "plt.ylim(-5, 5)"
   ]
  },
  {
   "cell_type": "code",
   "execution_count": null,
   "metadata": {},
   "outputs": [],
   "source": []
  },
  {
   "cell_type": "code",
   "execution_count": null,
   "metadata": {},
   "outputs": [],
   "source": []
  },
  {
   "cell_type": "code",
   "execution_count": null,
   "metadata": {},
   "outputs": [],
   "source": []
  },
  {
   "cell_type": "code",
   "execution_count": null,
   "metadata": {},
   "outputs": [],
   "source": []
  }
 ],
 "metadata": {
  "kernelspec": {
   "display_name": "Python 3",
   "language": "python",
   "name": "python3"
  },
  "language_info": {
   "codemirror_mode": {
    "name": "ipython",
    "version": 3
   },
   "file_extension": ".py",
   "mimetype": "text/x-python",
   "name": "python",
   "nbconvert_exporter": "python",
   "pygments_lexer": "ipython3",
   "version": "3.6.5"
  }
 },
 "nbformat": 4,
 "nbformat_minor": 2
}
